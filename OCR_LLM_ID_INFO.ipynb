{
 "cells": [
  {
   "cell_type": "code",
   "execution_count": 1,
   "metadata": {},
   "outputs": [],
   "source": [
    "from PIL import Image\n",
    "import pytesseract as tess\n"
   ]
  },
  {
   "cell_type": "code",
   "execution_count": 2,
   "metadata": {},
   "outputs": [],
   "source": [
    "im=Image.open(\"test_image\\\\test1.jpeg\")"
   ]
  },
  {
   "cell_type": "code",
   "execution_count": 3,
   "metadata": {},
   "outputs": [
    {
     "name": "stdout",
     "output_type": "stream",
     "text": [
      "<PIL.JpegImagePlugin.JpegImageFile image mode=RGB size=480x771 at 0x1EDA09878D0>\n"
     ]
    }
   ],
   "source": [
    "print(im)"
   ]
  },
  {
   "cell_type": "code",
   "execution_count": 4,
   "metadata": {},
   "outputs": [
    {
     "name": "stdout",
     "output_type": "stream",
     "text": [
      "Independent\n",
      "4¢ | University,\n",
      "s° Bangladesh\n",
      "\n",
      "Sourav Kumar Saha\n",
      "Student\n",
      "1D: 1930188\n",
      "\n",
      "dK\n",
      "\n",
      "wut LAL\n",
      "\n"
     ]
    }
   ],
   "source": [
    "image_data=tess.image_to_string(im)\n",
    "print(image_data)"
   ]
  },
  {
   "cell_type": "markdown",
   "metadata": {},
   "source": [
    "#using open ai vision model to get the text form the image\n"
   ]
  },
  {
   "cell_type": "code",
   "execution_count": 5,
   "metadata": {},
   "outputs": [
    {
     "data": {
      "text/plain": [
       "True"
      ]
     },
     "execution_count": 5,
     "metadata": {},
     "output_type": "execute_result"
    }
   ],
   "source": [
    "from openai import OpenAI\n",
    "from dotenv import load_dotenv\n",
    "import os\n",
    "import base64\n",
    "load_dotenv()"
   ]
  },
  {
   "cell_type": "code",
   "execution_count": 6,
   "metadata": {},
   "outputs": [],
   "source": [
    "# OPENAI_API_KEY=os.getenv(\"OPENAI_API_KEY\")\n",
    "client=OpenAI()"
   ]
  },
  {
   "cell_type": "code",
   "execution_count": 7,
   "metadata": {},
   "outputs": [],
   "source": [
    "def encode_image(image_path):\n",
    "    with open(image_path, \"rb\") as image_file:\n",
    "        return base64.b64encode(image_file.read()).decode(\"utf-8\")\n",
    "    \n",
    "image_path = \"test_image\\\\test1.jpeg\"\n",
    "base64_image = encode_image(image_path)"
   ]
  },
  {
   "cell_type": "code",
   "execution_count": 8,
   "metadata": {},
   "outputs": [],
   "source": [
    "responce=client.chat.completions.create(\n",
    "    model=\"gpt-4o-mini\",\n",
    "    messages=[ \n",
    "        {\n",
    "            \"role\":\"system\",\n",
    "            \"content\":\"You are a helpful assistant.\"\n",
    "        },\n",
    "        {\n",
    "            \"role\":\"user\",\n",
    "            \"content\":[\n",
    "                {\n",
    "                    \"type\":\"text\",\n",
    "                    \"text\":\"\"\"extract text from image of id card. Text like university name, student name,\n",
    "                    student id. give me the extracted information as dict format key value piar.\n",
    "                    example:\n",
    "                    [\n",
    "                        {\n",
    "                            University: university name,\n",
    "                            Student Name: student name, \n",
    "                            ID: student id,\n",
    "                        },\n",
    "                        {\n",
    "                            University: university name,\n",
    "                            Student Name: student name, \n",
    "                            ID: student id,\n",
    "                        },\n",
    "                    \n",
    "                    ]\n",
    "                    \n",
    "                    if the  there is multiple id there stracture data in list of dictionary format as given .\n",
    "                    and just give me the extracted information in text format. no extra information.\n",
    "                    \"\"\"\n",
    "                },\n",
    "                {\n",
    "                    \"type\":\"image_url\",\n",
    "                    \"image_url\":{\"url\": f\"data:image/jpeg;base64,{base64_image}\"}\n",
    "                }\n",
    "            ]\n",
    "        }\n",
    "    ],\n",
    "    max_tokens=300,\n",
    ")"
   ]
  },
  {
   "cell_type": "code",
   "execution_count": 9,
   "metadata": {},
   "outputs": [
    {
     "name": "stdout",
     "output_type": "stream",
     "text": [
      "ChatCompletion(id='chatcmpl-Aifyq7rvae2DGESQkdttdCx3ANOLN', choices=[Choice(finish_reason='stop', index=0, logprobs=None, message=ChatCompletionMessage(content='```json\\n[\\n    {\\n        \"University\": \"Independent University, Bangladesh\",\\n        \"Student Name\": \"Sourav Kumar Saha\",\\n        \"ID\": \"1930188\"\\n    }\\n]\\n```', refusal=None, role='assistant', audio=None, function_call=None, tool_calls=None))], created=1735211168, model='gpt-4o-mini-2024-07-18', object='chat.completion', service_tier=None, system_fingerprint='fp_d02d531b47', usage=CompletionUsage(completion_tokens=42, prompt_tokens=14312, total_tokens=14354, completion_tokens_details=CompletionTokensDetails(accepted_prediction_tokens=0, audio_tokens=0, reasoning_tokens=0, rejected_prediction_tokens=0), prompt_tokens_details=PromptTokensDetails(audio_tokens=0, cached_tokens=0)))\n"
     ]
    }
   ],
   "source": [
    "print(responce)\n"
   ]
  },
  {
   "cell_type": "code",
   "execution_count": 10,
   "metadata": {},
   "outputs": [
    {
     "data": {
      "text/plain": [
       "'```json\\n[\\n    {\\n        \"University\": \"Independent University, Bangladesh\",\\n        \"Student Name\": \"Sourav Kumar Saha\",\\n        \"ID\": \"1930188\"\\n    }\\n]\\n```'"
      ]
     },
     "execution_count": 10,
     "metadata": {},
     "output_type": "execute_result"
    }
   ],
   "source": [
    "responce.choices[0].message.content\n"
   ]
  },
  {
   "cell_type": "code",
   "execution_count": 11,
   "metadata": {},
   "outputs": [
    {
     "data": {
      "text/plain": [
       "'```json\\n[\\n    {\\n        \"University\": \"Independent University, Bangladesh\",\\n        \"Student Name\": \"Sourav Kumar Saha\",\\n        \"ID\": \"1930188\"\\n    }\\n]\\n```'"
      ]
     },
     "execution_count": 11,
     "metadata": {},
     "output_type": "execute_result"
    }
   ],
   "source": [
    "responce_data=responce.choices[0].message.content\n",
    "responce_data"
   ]
  },
  {
   "cell_type": "code",
   "execution_count": 43,
   "metadata": {},
   "outputs": [],
   "source": [
    "from langchain.prompts import PromptTemplate\n",
    "from langchain.chains import LLMChain, SequentialChain\n",
    "from langchain_openai import ChatOpenAI\n",
    "import json"
   ]
  },
  {
   "cell_type": "code",
   "execution_count": 45,
   "metadata": {},
   "outputs": [],
   "source": [
    "llm =ChatOpenAI(temperature=0,model=\"gpt-4o-mini\")"
   ]
  },
  {
   "cell_type": "code",
   "execution_count": 70,
   "metadata": {},
   "outputs": [],
   "source": [
    "get_info_prompt = PromptTemplate(\n",
    "    input_variables=[\"extracted_data\"],\n",
    "    template=\"\"\"\n",
    "    You are an AI assistant that performs calculations and transformations on the given input data.\n",
    "\n",
    "    Input data: {extracted_data}\n",
    "    Perform the following tasks on the input data and return the results in a list of dictionaries:\n",
    "\n",
    "    Task 1: Convert all text to uppercase.\n",
    "    Task 2: Create a short name for the university name. \n",
    "        Example: \"north south university\" -> \"NSU\", \n",
    "                 \"american international university bangladesh\" -> \"AIUB\".\n",
    "    Task 3: Create a short name for the student name. \n",
    "        Example: \"avijit kumar saha\" -> \"AKS\", \n",
    "                 \"isshan saha\" -> \"IS\".\n",
    "    Task 4: Extract the year of admission and semester name from the student ID.\n",
    "        - Year of admission: The first two digits of the ID represent the starting year. Example: if ID number is kind of this \"2010188\" -> \"2020\".\n",
    "        - Semester name: The third character or number of the ID indicates the semester (1 -> Autumn, 2 -> Spring, 3 -> Summer). example: if ID number is kind of this \"2010188\" -> \"Autumn\".(\"2010188\" example id)\n",
    "    Task 5: Calculate the estimated graduation year. \n",
    "        - Graduation is assumed to take 4 years. \n",
    "        - Example: If a student starts in \"2019 Spring\", they graduate in \"2023 Spring\".\n",
    "\n",
    "    Return the output in the following format:\n",
    "    [\n",
    "        dict(\n",
    "            \"university\": \"UNIVERSITY NAME\",\n",
    "            \"short_university_name\": \"SU\",\n",
    "            \"student_id\": \"STUDENT ID\",\n",
    "            \"student_name\": \"STUDENT NAME\",\n",
    "            \"short_student_name\": \"SN\",\n",
    "            \"year_of_admission\": \"YEAR\",\n",
    "            \"semester\": \"SEMESTER\",\n",
    "            \"estimated_graduation_year\": \"YEAR\",\n",
    "        )\n",
    "    ]\n",
    "\n",
    "    Provide only the extracted information in the given format. No extra information.\n",
    "    \"\"\"\n",
    ")\n"
   ]
  },
  {
   "cell_type": "code",
   "execution_count": 71,
   "metadata": {},
   "outputs": [],
   "source": [
    "proccess_data_chain=LLMChain(llm=llm,prompt=get_info_prompt)"
   ]
  },
  {
   "cell_type": "code",
   "execution_count": 72,
   "metadata": {},
   "outputs": [],
   "source": [
    "# data_as_string = json.dumps(responce_data, indent=2)\n",
    "result = proccess_data_chain.run(extracted_data=responce_data)\n"
   ]
  },
  {
   "cell_type": "code",
   "execution_count": 73,
   "metadata": {},
   "outputs": [
    {
     "data": {
      "text/plain": [
       "'```json\\n[\\n    {\\n        \"university\": \"INDEPENDENT UNIVERSITY, BANGLADESH\",\\n        \"short_university_name\": \"IUB\",\\n        \"student_id\": \"1930188\",\\n        \"student_name\": \"SOURAV KUMAR SAHA\",\\n        \"short_student_name\": \"SKS\",\\n        \"year_of_admission\": \"2019\",\\n        \"semester\": \"Autumn\",\\n        \"estimated_graduation_year\": \"2023\"\\n    }\\n]\\n```'"
      ]
     },
     "execution_count": 73,
     "metadata": {},
     "output_type": "execute_result"
    }
   ],
   "source": [
    "result"
   ]
  },
  {
   "cell_type": "code",
   "execution_count": 76,
   "metadata": {},
   "outputs": [
    {
     "data": {
      "text/plain": [
       "[{'university': 'INDEPENDENT UNIVERSITY, BANGLADESH',\n",
       "  'short_university_name': 'IUB',\n",
       "  'student_id': '1930188',\n",
       "  'student_name': 'SOURAV KUMAR SAHA',\n",
       "  'short_student_name': 'SKS',\n",
       "  'year_of_admission': '2019',\n",
       "  'semester': 'Autumn',\n",
       "  'estimated_graduation_year': '2023'}]"
      ]
     },
     "execution_count": 76,
     "metadata": {},
     "output_type": "execute_result"
    }
   ],
   "source": [
    "json_data=result.replace(\"```json\",\"\").replace(\"```\",\"\").strip()\n",
    "data=json.loads(json_data)\n",
    "data"
   ]
  },
  {
   "cell_type": "code",
   "execution_count": null,
   "metadata": {},
   "outputs": [],
   "source": []
  },
  {
   "cell_type": "code",
   "execution_count": 22,
   "metadata": {},
   "outputs": [],
   "source": [
    "# ectract_image_data_prompt=PromptTemplate(\n",
    "#     input_variables=[\"image_base64\"],\n",
    "    \n",
    "#     template=\"\"\"\n",
    "#         you are an ai assistant. you have to extract text from image of id card. Text like university name, student name,\n",
    "#         student id. universty establis year. give the extracted impormation in list of dictionary format.\n",
    "#         example:\n",
    "#         [\n",
    "#            {{\n",
    "#                 University: university name,\n",
    "#                 Student Name: student name, \n",
    "#                 ID: student id,\n",
    "#             }},\n",
    "#             {{\n",
    "#                 University: university name,\n",
    "#                 Student Name: student name, \n",
    "#                 ID: student id,\n",
    "#             }},\n",
    "                    \n",
    "#         ]\n",
    "                    \n",
    "#         if the  there is multiple id there stracture data in list of dictionary format as given .\n",
    "        \n",
    "    \n",
    "    \n",
    "#     \"\"\"  \n",
    "# )\n",
    "\n",
    "# extract_image_data_chain=LLMChain(llm=llm,prompt=ectract_image_data_prompt)\n"
   ]
  },
  {
   "cell_type": "code",
   "execution_count": 17,
   "metadata": {},
   "outputs": [],
   "source": [
    "# extract_image_data_chain.invoke({\"image_base64\":base64_image})"
   ]
  }
 ],
 "metadata": {
  "kernelspec": {
   "display_name": ".venv",
   "language": "python",
   "name": "python3"
  },
  "language_info": {
   "codemirror_mode": {
    "name": "ipython",
    "version": 3
   },
   "file_extension": ".py",
   "mimetype": "text/x-python",
   "name": "python",
   "nbconvert_exporter": "python",
   "pygments_lexer": "ipython3",
   "version": "3.11.5"
  }
 },
 "nbformat": 4,
 "nbformat_minor": 2
}
