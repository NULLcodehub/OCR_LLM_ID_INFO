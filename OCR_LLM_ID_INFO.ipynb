{
 "cells": [
  {
   "cell_type": "code",
   "execution_count": 2,
   "metadata": {},
   "outputs": [],
   "source": [
    "from PIL import Image\n",
    "import pytesseract as tess\n"
   ]
  },
  {
   "cell_type": "code",
   "execution_count": 3,
   "metadata": {},
   "outputs": [],
   "source": [
    "im=Image.open(\"test_image\\\\test1.jpeg\")"
   ]
  },
  {
   "cell_type": "code",
   "execution_count": 4,
   "metadata": {},
   "outputs": [
    {
     "name": "stdout",
     "output_type": "stream",
     "text": [
      "<PIL.JpegImagePlugin.JpegImageFile image mode=RGB size=480x771 at 0x1E2B15E74D0>\n"
     ]
    }
   ],
   "source": [
    "print(im)"
   ]
  },
  {
   "cell_type": "code",
   "execution_count": 5,
   "metadata": {},
   "outputs": [
    {
     "name": "stdout",
     "output_type": "stream",
     "text": [
      "Independent\n",
      "4¢ | University,\n",
      "s° Bangladesh\n",
      "\n",
      "Sourav Kumar Saha\n",
      "Student\n",
      "1D: 1930188\n",
      "\n",
      "dK\n",
      "\n",
      "wut LAL\n",
      "\n"
     ]
    }
   ],
   "source": [
    "image_data=tess.image_to_string(im)\n",
    "print(image_data)"
   ]
  },
  {
   "cell_type": "markdown",
   "metadata": {},
   "source": [
    "#using open ai vision model to get the text form the image\n"
   ]
  },
  {
   "cell_type": "code",
   "execution_count": 6,
   "metadata": {},
   "outputs": [
    {
     "data": {
      "text/plain": [
       "True"
      ]
     },
     "execution_count": 6,
     "metadata": {},
     "output_type": "execute_result"
    }
   ],
   "source": [
    "from openai import OpenAI\n",
    "from dotenv import load_dotenv\n",
    "import os\n",
    "import base64\n",
    "load_dotenv()"
   ]
  },
  {
   "cell_type": "code",
   "execution_count": 7,
   "metadata": {},
   "outputs": [],
   "source": [
    "# OPENAI_API_KEY=os.getenv(\"OPENAI_API_KEY\")\n",
    "client=OpenAI()"
   ]
  },
  {
   "cell_type": "code",
   "execution_count": 8,
   "metadata": {},
   "outputs": [],
   "source": [
    "def encode_image(image_path):\n",
    "    with open(image_path, \"rb\") as image_file:\n",
    "        return base64.b64encode(image_file.read()).decode(\"utf-8\")\n",
    "    \n",
    "image_path = \"test_image\\\\test1.jpeg\"\n",
    "base64_image = encode_image(image_path)"
   ]
  },
  {
   "cell_type": "code",
   "execution_count": 9,
   "metadata": {},
   "outputs": [],
   "source": [
    "responce=client.chat.completions.create(\n",
    "    model=\"gpt-4o-mini\",\n",
    "    messages=[ \n",
    "        {\n",
    "            \"role\":\"system\",\n",
    "            \"content\":\"You are a helpful assistant.\"\n",
    "        },\n",
    "        {\n",
    "            \"role\":\"user\",\n",
    "            \"content\":[\n",
    "                {\n",
    "                    \"type\":\"text\",\n",
    "                    \"text\":\"\"\"extract text from image of id card. Text like university name, student name,\n",
    "                    student id. give me the extracted information as dict format key value piar.\n",
    "                    example:\n",
    "                    [\n",
    "                        {\n",
    "                            University: university name,\n",
    "                            Student Name: student name, \n",
    "                            ID: student id,\n",
    "                        },\n",
    "                        {\n",
    "                            University: university name,\n",
    "                            Student Name: student name, \n",
    "                            ID: student id,\n",
    "                        },\n",
    "                    \n",
    "                    ]\n",
    "                    \n",
    "                    if the  there is multiple id there stracture data in list of dictionary format as given .\n",
    "                    \"\"\"\n",
    "                },\n",
    "                {\n",
    "                    \"type\":\"image_url\",\n",
    "                    \"image_url\":{\"url\": f\"data:image/jpeg;base64,{base64_image}\"}\n",
    "                }\n",
    "            ]\n",
    "        }\n",
    "    ],\n",
    "    max_tokens=300,\n",
    ")"
   ]
  },
  {
   "cell_type": "code",
   "execution_count": 10,
   "metadata": {},
   "outputs": [
    {
     "name": "stdout",
     "output_type": "stream",
     "text": [
      "ChatCompletion(id='chatcmpl-AiI2wahezuKEvMrMNCTKDlc7zkxzn', choices=[Choice(finish_reason='stop', index=0, logprobs=None, message=ChatCompletionMessage(content='```json\\n[\\n    {\\n        \"University\": \"Independent University, Bangladesh\",\\n        \"Student Name\": \"Sourav Kumar Saha\",\\n        \"ID\": \"1930188\"\\n    }\\n]\\n```', refusal=None, role='assistant', audio=None, function_call=None, tool_calls=None))], created=1735119166, model='gpt-4o-mini-2024-07-18', object='chat.completion', service_tier=None, system_fingerprint='fp_d02d531b47', usage=CompletionUsage(completion_tokens=43, prompt_tokens=719, total_tokens=762, completion_tokens_details=CompletionTokensDetails(accepted_prediction_tokens=0, audio_tokens=0, reasoning_tokens=0, rejected_prediction_tokens=0), prompt_tokens_details=PromptTokensDetails(audio_tokens=0, cached_tokens=0)))\n"
     ]
    }
   ],
   "source": [
    "print(responce)\n"
   ]
  },
  {
   "cell_type": "code",
   "execution_count": 11,
   "metadata": {},
   "outputs": [
    {
     "data": {
      "text/plain": [
       "'```json\\n[\\n    {\\n        \"University\": \"Independent University, Bangladesh\",\\n        \"Student Name\": \"Sourav Kumar Saha\",\\n        \"ID\": \"1930188\"\\n    }\\n]\\n```'"
      ]
     },
     "execution_count": 11,
     "metadata": {},
     "output_type": "execute_result"
    }
   ],
   "source": [
    "responce.choices[0].message.content\n"
   ]
  },
  {
   "cell_type": "code",
   "execution_count": 12,
   "metadata": {},
   "outputs": [],
   "source": [
    "responce_data=responce.choices[0].message.content\n"
   ]
  },
  {
   "cell_type": "code",
   "execution_count": 13,
   "metadata": {},
   "outputs": [],
   "source": [
    "from langchain.prompts import PromptTemplate\n",
    "from langchain.chains import LLMChain, SequentialChain\n",
    "from langchain_openai import OpenAI\n"
   ]
  },
  {
   "cell_type": "code",
   "execution_count": 14,
   "metadata": {},
   "outputs": [],
   "source": [
    "llm =OpenAI(temperature=0,model=\"gpt-4o-mini\")"
   ]
  },
  {
   "cell_type": "code",
   "execution_count": 15,
   "metadata": {},
   "outputs": [],
   "source": [
    "# ectract_image_data_prompt=PromptTemplate(\n",
    "#     input_variables=[\"image_base64\"],\n",
    "    \n",
    "#     template=\"\"\"\n",
    "#         you are an ai assistant. you have to extract text from image of id card. Text like university name, student name,\n",
    "#         student id. universty establis year. give the extracted impormation in list of dictionary format.\n",
    "#         example:\n",
    "#         [\n",
    "#            {{\n",
    "#                 University: university name,\n",
    "#                 Student Name: student name, \n",
    "#                 ID: student id,\n",
    "#             }},\n",
    "#             {{\n",
    "#                 University: university name,\n",
    "#                 Student Name: student name, \n",
    "#                 ID: student id,\n",
    "#             }},\n",
    "                    \n",
    "#         ]\n",
    "                    \n",
    "#         if the  there is multiple id there stracture data in list of dictionary format as given .\n",
    "        \n",
    "    \n",
    "    \n",
    "#     \"\"\"  \n",
    "# )\n",
    "\n",
    "# extract_image_data_chain=LLMChain(llm=llm,prompt=ectract_image_data_prompt)\n"
   ]
  },
  {
   "cell_type": "code",
   "execution_count": 16,
   "metadata": {},
   "outputs": [],
   "source": [
    "# extract_image_data_chain.invoke({\"image_base64\":base64_image})"
   ]
  }
 ],
 "metadata": {
  "kernelspec": {
   "display_name": ".venv",
   "language": "python",
   "name": "python3"
  },
  "language_info": {
   "codemirror_mode": {
    "name": "ipython",
    "version": 3
   },
   "file_extension": ".py",
   "mimetype": "text/x-python",
   "name": "python",
   "nbconvert_exporter": "python",
   "pygments_lexer": "ipython3",
   "version": "3.11.5"
  }
 },
 "nbformat": 4,
 "nbformat_minor": 2
}
